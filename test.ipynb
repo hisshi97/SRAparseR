{
 "cells": [
  {
   "cell_type": "code",
   "execution_count": 27,
   "metadata": {},
   "outputs": [],
   "source": [
    "import pandas as pd\n",
    "\n",
    "new_file = r\"C:\\Users\\htaka\\Downloads\\実施許可書受領一覧0823.xlsx\"\n",
    "old_file = r\"C:\\Users\\htaka\\Desktop\\難病ゲノム工程管理\\実施許可書受領一覧0915.xlsx\"\n",
    "df_new = pd.read_excel(new_file)\n",
    "df_old = pd.read_excel(old_file)[['G#', 'Site2#', '実施可否']]"
   ]
  },
  {
   "cell_type": "code",
   "execution_count": 28,
   "metadata": {},
   "outputs": [],
   "source": [
    "df_merge = pd.merge(df_new, df_old, on=['G#', 'Site2#'], how='outer')\n",
    "df_diff = df_merge[(df_merge['実施可否_x']=='実施可') & (df_merge['実施可否_y'].isnull())]"
   ]
  },
  {
   "cell_type": "code",
   "execution_count": 32,
   "metadata": {},
   "outputs": [],
   "source": [
    "# 新たに実施可となった施設\n",
    "df_diff.to_excel(r\"C:\\Users\\htaka\\Downloads\\diff.xlsx\")\n",
    "df_merge.to_excel(r\"C:\\Users\\htaka\\Downloads\\merged.xlsx\")"
   ]
  },
  {
   "cell_type": "markdown",
   "metadata": {},
   "source": []
  }
 ],
 "metadata": {
  "kernelspec": {
   "display_name": "Python 3",
   "language": "python",
   "name": "python3"
  },
  "language_info": {
   "codemirror_mode": {
    "name": "ipython",
    "version": 3
   },
   "file_extension": ".py",
   "mimetype": "text/x-python",
   "name": "python",
   "nbconvert_exporter": "python",
   "pygments_lexer": "ipython3",
   "version": "3.10.11"
  },
  "orig_nbformat": 4
 },
 "nbformat": 4,
 "nbformat_minor": 2
}
