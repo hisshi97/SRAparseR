{
 "cells": [
  {
   "cell_type": "code",
   "execution_count": 37,
   "metadata": {},
   "outputs": [],
   "source": [
    "from Bio import Entrez\n",
    "Entrez.email = \"sj0037rr@ed.ritsumei.ac.jp\"\n",
    "Entrez.tool = \"MyLocalScript\"\n"
   ]
  },
  {
   "cell_type": "code",
   "execution_count": 38,
   "metadata": {},
   "outputs": [
    {
     "name": "stdout",
     "output_type": "stream",
     "text": [
      "pubmed : PubMed bibliographic record\n",
      "protein : Protein sequence record\n",
      "nuccore : Core Nucleotide db\n",
      "ipg : Identical Protein Groups DB\n",
      "nucleotide : Core Nucleotide db\n",
      "structure : Three-dimensional molecular model\n",
      "genome : Genomic sequences, contigs, and maps\n",
      "annotinfo : Annotinfo Database\n",
      "assembly : Genome Assembly Database\n",
      "bioproject : BioProject Database\n",
      "biosample : BioSample Database\n",
      "blastdbinfo : BlastdbInfo Database\n",
      "books : Books Database\n",
      "cdd : Conserved Domain Database\n",
      "clinvar : ClinVar Database\n",
      "gap : dbGaP Data\n",
      "gapplus : Internal Genotypes and Phenotypes database\n",
      "grasp : grasp Data\n",
      "dbvar : dbVar records\n",
      "gene : Gene database\n",
      "gds : GEO DataSets\n",
      "geoprofiles : Genes Expression Omnibus\n",
      "homologene : HomoloGene Database\n",
      "medgen : Medgen Database\n",
      "mesh : MeSH Database\n",
      "nlmcatalog : NLM Catalog Database\n",
      "omim : OMIM records\n",
      "orgtrack : Orgtrack Database\n",
      "pmc : PubMed Central\n",
      "popset : PopSet sequence record\n",
      "proteinclusters : Protein Cluster record\n",
      "pcassay : PubChem BioAssay Database\n",
      "protfam : protfam DB\n",
      "pccompound : PubChem Compound Database\n",
      "pcsubstance : PubChem Substance Database\n",
      "seqannot : SeqAnnot Database\n",
      "snp : Single Nucleotide Polymorphisms\n",
      "sra : SRA Database\n",
      "taxonomy : Taxonomy db\n",
      "biocollections : Biocollections db\n",
      "gtr : GTR Database\n"
     ]
    }
   ],
   "source": [
    "# show db and info\n",
    "from Bio import Entrez\n",
    "handle = Entrez.einfo()\n",
    "record = Entrez.read(handle)\n",
    "\n",
    "for i in record[\"DbList\"]:\n",
    "    handle = Entrez.einfo(db=i)\n",
    "    record = Entrez.read(handle)\n",
    "    print(\" : \".join([i, record[\"DbInfo\"][\"Description\"]]))\n",
    "handle.close()"
   ]
  },
  {
   "cell_type": "code",
   "execution_count": 39,
   "metadata": {},
   "outputs": [
    {
     "name": "stdout",
     "output_type": "stream",
     "text": [
      "ALL, All Fields, All terms from all searchable fields\n",
      "UID, UID, Unique number assigned to publication\n",
      "FILT, Filter, Limits the records\n",
      "WORD, Text Word, Free text associated with record\n",
      "WRD1, Text Word 1, Free text associated with record with higher score then regular TEXT field\n",
      "PROP, Properties, Properties of this record\n",
      "ORG, Organization names, Lab or Clinic name including institution and department\n",
      "OID, Organization UID, Unique number for this lab/clinic\n",
      "CITY, Organization City, Lab or clinic city\n",
      "STATE, Organization State, Lab or clinic State or province\n",
      "COUNTRY, Organization Country, Lab or clinic Country\n",
      "POSTCODE, Organization postcode, Lab or clinic zip or postcode\n",
      "DIRECTOR, Organization Director(s), Lab or clinic director(s)\n",
      "STAFF, Organization Staff, Lab or clinic Staff name\n",
      "LS, Lab Service name, Lab Service name\n",
      "GTRACC, Accession for GTR test, Accession for GTR test\n",
      "MDAT, Modification Date, The last date on which the record was updated\n",
      "NAME, name for this test, name for this test\n",
      "ALT, Alternate name, alternate short and full names for test\n",
      "TESTDIS, disease name for this test, preferred name of disease by lab\n",
      "SPECIMEN, Specimen options for test, Specimen options for test\n",
      "TITL, title of this clinvar assertion, title of this clinvar assertion\n",
      "CVACC, Accession for clinvar assertion, Accession for clinvar assertion\n",
      "DCUI, Disease BioConcepts concept id, Concept identifier from BioConcepts for a disease\n",
      "DISNAME, Name of Disease, preferred full name\n",
      "GCUI, Gene BioConcepts concept id, Concept identifier from BioConcepts for a gene\n",
      "GENEID, UID for a record from Gene, Unique number for this record\n",
      "SYMB, Gene Symbol, Symbol or symbols of the gene\n",
      "GENENAME, Name of Gene, preferred full name\n",
      "GENEMIM, MIM number for the Gene, MIM number for the Gene\n",
      "PROTNAME, Name of Protein, preferred full name\n",
      "MTOD, Name of Method, method name\n",
      "MCAT, name for method category, name for method category\n",
      "TCAT, name for method top category, name for method top category\n",
      "LCRT, laboratory certification, laboratory certification\n",
      "CID, Country ISO code, Country ISO code\n",
      "SID, State ISO code, State ISO code\n",
      "TCID, Top Method Category ID, Top Method Category ID\n",
      "CTID, Method Category ID, Method Category ID\n",
      "MTID, Test Method ID, Test Method ID\n",
      "DID, Disease BioConcepts Entrez ID, Disease BioConcepts Entrez ID\n",
      "ORGN, Organism, scientific and common names of organism\n",
      "TARPOP, Target Population option for the test, Target Population option for the test\n",
      "CLNUTL, Clinical Utility option for the test, Clinical Utility option for the test\n",
      "CLNVAL, Clinical Validity option for the test, Clinical Validity option for the test\n",
      "GENENUM, Number of genes, Number of genes explicitly listed as being targeted in a test\n",
      "pharma, Pharmacogenetic response condition, Names of conditions that are identified as being pharmacogenetic responses\n",
      "STID, Specimen Type ID, Specimen Type ID\n",
      "TESTTARGET, Test target, Test target\n",
      "ALYT, Analyte, Analyte\n",
      "CHRG, Chromosomal region, Chromosomal region/Mitochondrion\n",
      "TESTGENE, Test gene, Test gene symbol or name\n",
      "MICROBE, Microbe, Microbe Name\n",
      "INFECTDIS, Infectious Disease, Infectious Disease\n",
      "MICROBE_GENE, Microbe Gene, Gene that identified Microbe\n",
      "MICROBE_PROTEIN, Microbe Protein, Protein that identified Microbe\n",
      "MICROBE_ANALYTE, Microbe Analyte, Analyte that identified Microbe\n",
      "MICROBE_CHRLOC, Microbe Chromosomal Location, Chromosomal Location that identified Microbe\n",
      "MICROBE_VARIANT, Microbe Variant, Gene that identified Microbe\n",
      "MICROBE_VARGENE, Microbe Gene related to Variant, Gene related to Variant that identified Microbe\n"
     ]
    }
   ],
   "source": [
    "for field in record[\"DbInfo\"][\"FieldList\"]:\n",
    "    print(\"%(Name)s, %(FullName)s, %(Description)s\" % field)"
   ]
  },
  {
   "cell_type": "code",
   "execution_count": 68,
   "metadata": {},
   "outputs": [],
   "source": [
    "from Bio import Entrez\n",
    "Entrez.email = \"sj0037rr@ed.ritsumei.ac.jp\"\n",
    "handle = Entrez.esearch(db=\"bioproject\", retmax=500,term=\"longevity AND Caenorhabditis elegans[ORGN]\", idtype=\"acc\")"
   ]
  },
  {
   "cell_type": "code",
   "execution_count": 69,
   "metadata": {},
   "outputs": [],
   "source": [
    "record = Entrez.read(handle)"
   ]
  },
  {
   "cell_type": "code",
   "execution_count": 64,
   "metadata": {},
   "outputs": [
    {
     "name": "stdout",
     "output_type": "stream",
     "text": [
      "['1008701', '999718', '993650', '991709', '984815', '982578', '981230', '981229', '979492', '979459', '951725', '951630', '937591', '922122', '919094', '919093', '917674', '911265', '895005', '892981', '858484', '853940', '818643', '809669', '797012', '773598', '772952', '769111', '764774', '763584', '758580', '757629', '745188', '744137', '732080', '707571', '707570', '701169', '693156', '666358', '662494', '656523', '656126', '646217', '645913', '631205', '630672', '629826', '627928', '623903', '611999', '604568', '604038', '602828', '602671', '602033', '595861', '592073', '589459', '580256', '574844', '573686', '560378', '556814', '554998', '554977', '549074', '544186', '533218', '529404', '525790', '522776', '505282', '503572', '491191', '489378', '482604', '479869', '475273', '473811', '464509', '449681', '449675', '436651', '434679', '428937', '421426', '417669', '397980', '392315', '392182', '391939', '387013', '368736', '362992', '362200', '355420', '353023', '352732', '352728', '342407', '342039', '340183', '337916', '315960', '314583', '313027', '309116', '307238', '297798', '294011', '282784', '274976', '274973', '270739', '268148', '266552', '264893', '263895', '262084', '253943', '247477', '241944', '227451', '226690', '219742', '198476', '183492', '182549', '182545', '178552', '171150', '159479', '146973', '144879', '143319', '138873', '138191', '135169', '133763', '127629', '125953', '123723', '103573', '90521']\n"
     ]
    }
   ],
   "source": [
    "print(record[\"IdList\"])"
   ]
  },
  {
   "cell_type": "code",
   "execution_count": 72,
   "metadata": {},
   "outputs": [
    {
     "name": "stdout",
     "output_type": "stream",
     "text": [
      "{'DocumentSummarySet': DictElement({'DocumentSummary': [DictElement({'TaxId': '6239', 'Project_Id': '1008701', 'Project_Acc': 'PRJNA1008701', 'Project_Type': 'Primary submission', 'Project_Data_Type': 'Transcriptome or Gene expression', 'Sort_By_ProjectType': '27657', 'Sort_By_DataType': '5162', 'Sort_By_Organism': '61608', 'Project_Subtype': '', 'Project_Target_Scope': 'Multiisolate', 'Project_Target_Material': 'Transcriptome', 'Project_Target_Capture': 'Whole', 'Project_MethodType': 'Sequencing', 'Project_Method': '', 'Project_Objectives_List': [{'Project_ObjectivesType': 'Expression', 'Project_Objectives': ''}], 'Registration_Date': '2023/08/23 00:00', 'Project_Name': 'HSF-1 promotes longevity through ubiquilin-1 dependent mitochondrial remodelling', 'Project_Title': 'HSF-1 promotes longevity through ubiquilin-1 dependent mitochondrial remodelling', 'Project_Description': 'In this experiment, we aimed to determine the gene expression changes associated with loss of UBQL-1 in wildtype and in worms overexpressing HSF-1 (hsf-1 OE). Overall design: C. elegans worms (N2 laboratory wild-type strain, ubql-1(tm1574), hsf-1 OE, and hsf-1 OE;ubql-1(tm1574)) were synchornised by egg-laying, grown at 20C and collected at Day1 of adulthood as young adults. Worms were collected and snap frozen before RNA was extracted using an RNeasy kit (Qiagen).', 'Keyword': '', 'Relevance_Agricultural': '', 'Relevance_Medical': '', 'Relevance_Industrial': '', 'Relevance_Environmental': '', 'Relevance_Evolution': '', 'Relevance_Model': 'Yes', 'Relevance_Other': '', 'Organism_Name': 'Caenorhabditis elegans', 'Organism_Strain': '', 'Organism_Label': '', 'Sequencing_Status': 'SRA/Trace', 'Submitter_Organization': 'GEE, UCL', 'Submitter_Organization_List': ['GEE, UCL'], 'Supergroup': 'Eukaryotes'}, attributes={'uid': '1008701'})], 'DbBuild': 'Build230927-1510.1'}, attributes={'status': 'OK'})}\n"
     ]
    }
   ],
   "source": [
    "from Bio import Entrez\n",
    "Entrez.email = \"sj0037rr@ed.ritsumei.ac.jp\"\n",
    "handle = Entrez.esummary(db=\"bioproject\", id=\"1008701\")\n",
    "record = Entrez.read(handle)\n",
    "print(record)\n"
   ]
  },
  {
   "cell_type": "code",
   "execution_count": 78,
   "metadata": {},
   "outputs": [
    {
     "name": "stdout",
     "output_type": "stream",
     "text": [
      "TaxId\n",
      "Project_Id\n",
      "Project_Acc\n",
      "Project_Type\n",
      "Project_Data_Type\n",
      "Sort_By_ProjectType\n",
      "Sort_By_DataType\n",
      "Sort_By_Organism\n",
      "Project_Subtype\n",
      "Project_Target_Scope\n",
      "Project_Target_Material\n",
      "Project_Target_Capture\n",
      "Project_MethodType\n",
      "Project_Method\n",
      "Project_Objectives_List\n",
      "Registration_Date\n",
      "Project_Name\n",
      "Project_Title\n",
      "Project_Description\n",
      "Keyword\n",
      "Relevance_Agricultural\n",
      "Relevance_Medical\n",
      "Relevance_Industrial\n",
      "Relevance_Environmental\n",
      "Relevance_Evolution\n",
      "Relevance_Model\n",
      "Relevance_Other\n",
      "Organism_Name\n",
      "Organism_Strain\n",
      "Organism_Label\n",
      "Sequencing_Status\n",
      "Submitter_Organization\n",
      "Submitter_Organization_List\n",
      "Supergroup\n"
     ]
    }
   ],
   "source": [
    "for i in record[\"DocumentSummarySet\"][\"DocumentSummary\"]:\n",
    "    for j in i:\n",
    "        print(j)"
   ]
  },
  {
   "cell_type": "code",
   "execution_count": 70,
   "metadata": {},
   "outputs": [],
   "source": [
    "from Bio import Entrez\n",
    "Entrez.email = \"A.N.Other@example.com\"\n",
    "id = record[\"IdList\"][13]\n",
    "record = Entrez.read(Entrez.elink(dbfrom=\"bioproject\", id=id))\n",
    "\n"
   ]
  },
  {
   "cell_type": "code",
   "execution_count": 58,
   "metadata": {},
   "outputs": [
    {
     "data": {
      "text/plain": [
       "{'LinkSetDbHistory': [], 'LinkSetDb': [], 'ERROR': [], 'DbFrom': 'bioproject', 'IdList': ['1008701']}"
      ]
     },
     "execution_count": 58,
     "metadata": {},
     "output_type": "execute_result"
    }
   ],
   "source": [
    "record[0]"
   ]
  },
  {
   "cell_type": "code",
   "execution_count": null,
   "metadata": {},
   "outputs": [],
   "source": []
  }
 ],
 "metadata": {
  "kernelspec": {
   "display_name": "Python 3",
   "language": "python",
   "name": "python3"
  },
  "language_info": {
   "codemirror_mode": {
    "name": "ipython",
    "version": 3
   },
   "file_extension": ".py",
   "mimetype": "text/x-python",
   "name": "python",
   "nbconvert_exporter": "python",
   "pygments_lexer": "ipython3",
   "version": "3.10.11"
  },
  "orig_nbformat": 4
 },
 "nbformat": 4,
 "nbformat_minor": 2
}
